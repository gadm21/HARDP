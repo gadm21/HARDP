{
 "cells": [
  {
   "cell_type": "code",
   "execution_count": 11,
   "metadata": {},
   "outputs": [
    {
     "name": "stdout",
     "output_type": "stream",
     "text": [
      "Hel\n"
     ]
    }
   ],
   "source": [
    "import utils\n",
    "\n",
    "# reload the module\n",
    "import importlib\n",
    "importlib.reload(utils)\n",
    "\n",
    "from utils import myfunc \n",
    "\n",
    "myfunc() "
   ]
  }
 ],
 "metadata": {
  "kernelspec": {
   "display_name": "Python 3.9.13 ('fl')",
   "language": "python",
   "name": "python3"
  },
  "language_info": {
   "codemirror_mode": {
    "name": "ipython",
    "version": 3
   },
   "file_extension": ".py",
   "mimetype": "text/x-python",
   "name": "python",
   "nbconvert_exporter": "python",
   "pygments_lexer": "ipython3",
   "version": "3.9.13"
  },
  "orig_nbformat": 4,
  "vscode": {
   "interpreter": {
    "hash": "f46111f1a6919d1b57bf7c88aba8eeca6cdf6548b00be16333f60903412df538"
   }
  }
 },
 "nbformat": 4,
 "nbformat_minor": 2
}
